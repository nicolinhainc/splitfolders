{
  "nbformat": 4,
  "nbformat_minor": 0,
  "metadata": {
    "colab": {
      "name": "LGGtestpipeline.ipynb",
      "provenance": [],
      "authorship_tag": "ABX9TyOLFOOE44JTqFHWWgvmmbbG",
      "include_colab_link": true
    },
    "kernelspec": {
      "name": "python3",
      "display_name": "Python 3"
    },
    "accelerator": "GPU"
  },
  "cells": [
    {
      "cell_type": "markdown",
      "metadata": {
        "id": "view-in-github",
        "colab_type": "text"
      },
      "source": [
        "<a href=\"https://colab.research.google.com/github/nicolinhainc/splitfolders/blob/master/LGGtestpipeline.ipynb\" target=\"_parent\"><img src=\"https://colab.research.google.com/assets/colab-badge.svg\" alt=\"Open In Colab\"/></a>"
      ]
    },
    {
      "cell_type": "code",
      "metadata": {
        "id": "eh_-JcgfOBCr",
        "colab_type": "code",
        "outputId": "e2ee2a77-b1ed-420b-8fc9-9ffb172bbc14",
        "colab": {
          "base_uri": "https://localhost:8080/",
          "height": 34
        }
      },
      "source": [
        "%pwd  \n"
      ],
      "execution_count": 0,
      "outputs": [
        {
          "output_type": "execute_result",
          "data": {
            "text/plain": [
              "'/content'"
            ]
          },
          "metadata": {
            "tags": []
          },
          "execution_count": 19
        }
      ]
    },
    {
      "cell_type": "code",
      "metadata": {
        "id": "-ZuaahkoOnd2",
        "colab_type": "code",
        "outputId": "bb678e6a-7cf6-4c90-a2a2-f9a2a39b7d8b",
        "colab": {
          "base_uri": "https://localhost:8080/",
          "height": 34
        }
      },
      "source": [
        "%cd '/content'"
      ],
      "execution_count": 0,
      "outputs": [
        {
          "output_type": "stream",
          "text": [
            "/content\n"
          ],
          "name": "stdout"
        }
      ]
    },
    {
      "cell_type": "code",
      "metadata": {
        "id": "bB2zlD0wOqsA",
        "colab_type": "code",
        "outputId": "76b4a854-b17c-4ba2-bdef-5da6a06f4781",
        "colab": {
          "base_uri": "https://localhost:8080/",
          "height": 350
        }
      },
      "source": [
        "!wget --no-check-certificate 'https://drive.google.com/uc?export=download&id=1XdwGEqKXeKH1NRhZXxCZo5T8mncwYHCC' -O ./Bet-n-dcm2nii.zip\n",
        "!unzip -q ./Bet-n-dcm2nii.zip\n",
        "!rm -rf images"
      ],
      "execution_count": 0,
      "outputs": [
        {
          "output_type": "stream",
          "text": [
            "--2020-04-05 03:08:51--  https://drive.google.com/uc?export=download&id=1XdwGEqKXeKH1NRhZXxCZo5T8mncwYHCC\n",
            "Resolving drive.google.com (drive.google.com)... 108.177.127.100, 108.177.127.138, 108.177.127.102, ...\n",
            "Connecting to drive.google.com (drive.google.com)|108.177.127.100|:443... connected.\n",
            "HTTP request sent, awaiting response... 302 Moved Temporarily\n",
            "Location: https://doc-0k-60-docs.googleusercontent.com/docs/securesc/ha0ro937gcuc7l7deffksulhg5h7mbp1/oqt1542auc09nk5kgd43mh8rjol7oiel/1586056125000/07380574639032097336/*/1XdwGEqKXeKH1NRhZXxCZo5T8mncwYHCC?e=download [following]\n",
            "Warning: wildcards not supported in HTTP.\n",
            "--2020-04-05 03:08:52--  https://doc-0k-60-docs.googleusercontent.com/docs/securesc/ha0ro937gcuc7l7deffksulhg5h7mbp1/oqt1542auc09nk5kgd43mh8rjol7oiel/1586056125000/07380574639032097336/*/1XdwGEqKXeKH1NRhZXxCZo5T8mncwYHCC?e=download\n",
            "Resolving doc-0k-60-docs.googleusercontent.com (doc-0k-60-docs.googleusercontent.com)... 108.177.119.132, 2a00:1450:4013:c00::84\n",
            "Connecting to doc-0k-60-docs.googleusercontent.com (doc-0k-60-docs.googleusercontent.com)|108.177.119.132|:443... connected.\n",
            "HTTP request sent, awaiting response... 200 OK\n",
            "Length: unspecified [application/zip]\n",
            "Saving to: ‘./Bet-n-dcm2nii.zip’\n",
            "\n",
            "./Bet-n-dcm2nii.zip     [ <=>                ]  12.52M  --.-KB/s    in 0.09s   \n",
            "\n",
            "2020-04-05 03:08:53 (144 MB/s) - ‘./Bet-n-dcm2nii.zip’ saved [13126916]\n",
            "\n",
            "replace dcm2nii? [y]es, [n]o, [A]ll, [N]one, [r]ename: A\n"
          ],
          "name": "stdout"
        }
      ]
    },
    {
      "cell_type": "code",
      "metadata": {
        "id": "nlhK1hdCOqop",
        "colab_type": "code",
        "outputId": "fceb82c3-f7b8-40f6-e9f9-a1ee14313bfb",
        "colab": {
          "base_uri": "https://localhost:8080/",
          "height": 208
        }
      },
      "source": [
        "!wget --no-check-certificate 'https://drive.google.com/uc?export=download&id=1WcW0TaspxmfTeTQ9K_AlzEiU38gZWx1s' -O ./LGGseparated.zip\n",
        "\n",
        "\n"
      ],
      "execution_count": 0,
      "outputs": [
        {
          "output_type": "stream",
          "text": [
            "--2020-04-05 02:52:30--  https://drive.google.com/uc?export=download&id=1WcW0TaspxmfTeTQ9K_AlzEiU38gZWx1s\n",
            "Resolving drive.google.com (drive.google.com)... 108.177.127.139, 108.177.127.138, 108.177.127.100, ...\n",
            "Connecting to drive.google.com (drive.google.com)|108.177.127.139|:443... connected.\n",
            "HTTP request sent, awaiting response... 200 OK\n",
            "Length: unspecified [text/html]\n",
            "Saving to: ‘./LGGseparated.zip’\n",
            "\n",
            "./LGGseparated.zip      [ <=>                ]   3.18K  --.-KB/s    in 0s      \n",
            "\n",
            "2020-04-05 02:52:31 (39.3 MB/s) - ‘./LGGseparated.zip’ saved [3253]\n",
            "\n"
          ],
          "name": "stdout"
        }
      ]
    },
    {
      "cell_type": "code",
      "metadata": {
        "id": "wvaHP401QE8D",
        "colab_type": "code",
        "colab": {}
      },
      "source": [
        "!unzip -q ./LGG.zip\n",
        "!rm -rf ./_MACOSX\n",
        "!rm -rf *.DS_Store\n",
        "!rm -rf ./LGG/.DS_Store"
      ],
      "execution_count": 0,
      "outputs": []
    },
    {
      "cell_type": "code",
      "metadata": {
        "id": "OM9EGT_KOqlc",
        "colab_type": "code",
        "outputId": "13ad7688-c943-4369-e771-263757cb7616",
        "colab": {
          "base_uri": "https://localhost:8080/",
          "height": 350
        }
      },
      "source": [
        "!wget --no-check-certificate 'https://drive.google.com/uc?export=download&id=1uBQdQIYcA_ACqycw8ofDzD-1G9YwZaRw' -O ./icbm152t2.zip\n",
        "!unzip -q ./icbm152t2.zip"
      ],
      "execution_count": 0,
      "outputs": [
        {
          "output_type": "stream",
          "text": [
            "--2020-04-05 03:11:56--  https://drive.google.com/uc?export=download&id=1uBQdQIYcA_ACqycw8ofDzD-1G9YwZaRw\n",
            "Resolving drive.google.com (drive.google.com)... 108.177.127.100, 108.177.127.138, 108.177.127.102, ...\n",
            "Connecting to drive.google.com (drive.google.com)|108.177.127.100|:443... connected.\n",
            "HTTP request sent, awaiting response... 302 Moved Temporarily\n",
            "Location: https://doc-0k-60-docs.googleusercontent.com/docs/securesc/ha0ro937gcuc7l7deffksulhg5h7mbp1/toll7duddpqpnucutonc8kug4vmkr6ub/1586056275000/07380574639032097336/*/1uBQdQIYcA_ACqycw8ofDzD-1G9YwZaRw?e=download [following]\n",
            "Warning: wildcards not supported in HTTP.\n",
            "--2020-04-05 03:11:58--  https://doc-0k-60-docs.googleusercontent.com/docs/securesc/ha0ro937gcuc7l7deffksulhg5h7mbp1/toll7duddpqpnucutonc8kug4vmkr6ub/1586056275000/07380574639032097336/*/1uBQdQIYcA_ACqycw8ofDzD-1G9YwZaRw?e=download\n",
            "Resolving doc-0k-60-docs.googleusercontent.com (doc-0k-60-docs.googleusercontent.com)... 108.177.119.132, 2a00:1450:4013:c00::84\n",
            "Connecting to doc-0k-60-docs.googleusercontent.com (doc-0k-60-docs.googleusercontent.com)|108.177.119.132|:443... connected.\n",
            "HTTP request sent, awaiting response... 200 OK\n",
            "Length: unspecified [application/zip]\n",
            "Saving to: ‘./icbm152t2.zip’\n",
            "\n",
            "./icbm152t2.zip         [ <=>                ]  12.92M  --.-KB/s    in 0.07s   \n",
            "\n",
            "2020-04-05 03:11:58 (180 MB/s) - ‘./icbm152t2.zip’ saved [13550902]\n",
            "\n",
            "replace icbm_avg_152_t2_tal_lin.nii? [y]es, [n]o, [A]ll, [N]one, [r]ename: N\n"
          ],
          "name": "stdout"
        }
      ]
    },
    {
      "cell_type": "code",
      "metadata": {
        "id": "BD1GtfyyOqib",
        "colab_type": "code",
        "colab": {}
      },
      "source": [
        "NIFTI_PATH = './LGG'"
      ],
      "execution_count": 0,
      "outputs": []
    },
    {
      "cell_type": "code",
      "metadata": {
        "id": "t10RO97lOqfR",
        "colab_type": "code",
        "colab": {}
      },
      "source": [
        "import os, fnmatch"
      ],
      "execution_count": 0,
      "outputs": []
    },
    {
      "cell_type": "code",
      "metadata": {
        "id": "o1cAkDPQOqbu",
        "colab_type": "code",
        "colab": {}
      },
      "source": [
        "os.environ['FSLOUTPUTTYPE'] = 'NIFTI_GZ'"
      ],
      "execution_count": 0,
      "outputs": []
    },
    {
      "cell_type": "code",
      "metadata": {
        "id": "1mhkUaJnOqTM",
        "colab_type": "code",
        "outputId": "d7efcf8e-0d34-42f4-8cf9-6fbdb1baf065",
        "colab": {
          "base_uri": "https://localhost:8080/",
          "height": 434
        }
      },
      "source": [
        "for subj in os.listdir(NIFTI_PATH):\n",
        "    subj_path = os.path.join(NIFTI_PATH, subj)\n",
        "    print (\"Working on \" + subj_path)\n",
        "    series = fnmatch.filter(os.listdir(subj_path), '*.nii.gz')\n",
        "    for ser in ['T2*']:\n",
        "        nii_file = os.path.join (subj_path, ser)\n",
        "# First, perform N4 bias correction. Not required, but may improve results. Also must track new names\n",
        "        new_file = os.path.join (subj_path, 'N4-' + ser)\n",
        "        cmd = \"./N4BiasFieldCorrection -i %s.nii.gz -o %s.nii.gz\" % (nii_file, new_file)\n",
        "        os.system(cmd)\n",
        "        print (cmd)\n",
        "   \n"
      ],
      "execution_count": 0,
      "outputs": [
        {
          "output_type": "stream",
          "text": [
            "Working on ./LGG/Patient8\n",
            "./N4BiasFieldCorrection -i ./LGG/Patient8/T2*.nii.gz -o ./LGG/Patient8/N4-T2*.nii.gz\n",
            "Working on ./LGG/Patient10\n",
            "./N4BiasFieldCorrection -i ./LGG/Patient10/T2*.nii.gz -o ./LGG/Patient10/N4-T2*.nii.gz\n",
            "Working on ./LGG/Patient9\n",
            "./N4BiasFieldCorrection -i ./LGG/Patient9/T2*.nii.gz -o ./LGG/Patient9/N4-T2*.nii.gz\n",
            "Working on ./LGG/Patient7\n",
            "./N4BiasFieldCorrection -i ./LGG/Patient7/T2*.nii.gz -o ./LGG/Patient7/N4-T2*.nii.gz\n",
            "Working on ./LGG/class2\n",
            "./N4BiasFieldCorrection -i ./LGG/class2/T2*.nii.gz -o ./LGG/class2/N4-T2*.nii.gz\n",
            "Working on ./LGG/Patient2\n",
            "./N4BiasFieldCorrection -i ./LGG/Patient2/T2*.nii.gz -o ./LGG/Patient2/N4-T2*.nii.gz\n",
            "Working on ./LGG/Patient6\n",
            "./N4BiasFieldCorrection -i ./LGG/Patient6/T2*.nii.gz -o ./LGG/Patient6/N4-T2*.nii.gz\n",
            "Working on ./LGG/class1\n",
            "./N4BiasFieldCorrection -i ./LGG/class1/T2*.nii.gz -o ./LGG/class1/N4-T2*.nii.gz\n",
            "Working on ./LGG/Patient5\n",
            "./N4BiasFieldCorrection -i ./LGG/Patient5/T2*.nii.gz -o ./LGG/Patient5/N4-T2*.nii.gz\n",
            "Working on ./LGG/Patient4\n",
            "./N4BiasFieldCorrection -i ./LGG/Patient4/T2*.nii.gz -o ./LGG/Patient4/N4-T2*.nii.gz\n",
            "Working on ./LGG/Patient1\n",
            "./N4BiasFieldCorrection -i ./LGG/Patient1/T2*.nii.gz -o ./LGG/Patient1/N4-T2*.nii.gz\n",
            "Working on ./LGG/Patient3\n",
            "./N4BiasFieldCorrection -i ./LGG/Patient3/T2*.nii.gz -o ./LGG/Patient3/N4-T2*.nii.gz\n"
          ],
          "name": "stdout"
        }
      ]
    },
    {
      "cell_type": "code",
      "metadata": {
        "id": "t0-MKkA-g1Xb",
        "colab_type": "code",
        "colab": {
          "base_uri": "https://localhost:8080/",
          "height": 34
        },
        "outputId": "c6beb521-1a41-49a1-bdc0-a909e178c02d"
      },
      "source": [
        "os.curdir = './LGG'"
      ],
      "execution_count": 59,
      "outputs": [
        {
          "output_type": "stream",
          "text": [
            "ERROR! Session/line number was not unique in database. History logging moved to new session 67\n"
          ],
          "name": "stdout"
        }
      ]
    },
    {
      "cell_type": "code",
      "metadata": {
        "id": "8DSRNKewffxO",
        "colab_type": "code",
        "colab": {}
      },
      "source": [
        "import shutil\n",
        "import os\n",
        "\n",
        "dirs = filter(os.path.isdir, os.listdir(os.curdir))"
      ],
      "execution_count": 0,
      "outputs": []
    },
    {
      "cell_type": "code",
      "metadata": {
        "id": "WHrRikRfgwk0",
        "colab_type": "code",
        "colab": {
          "base_uri": "https://localhost:8080/",
          "height": 34
        },
        "outputId": "5934483d-0426-469d-f149-ef76dd9af2c3"
      },
      "source": [
        "print(os.curdir)"
      ],
      "execution_count": 61,
      "outputs": [
        {
          "output_type": "stream",
          "text": [
            "./LGG\n"
          ],
          "name": "stdout"
        }
      ]
    },
    {
      "cell_type": "code",
      "metadata": {
        "id": "PtW9zGeEaQxn",
        "colab_type": "code",
        "colab": {}
      },
      "source": [
        "for dir in dirs:\n",
        "      files = filter(os.path.isfile, os.listdir(str(os.curdir) + dir))\n",
        "      for file in files: \n",
        "        if file==\"T2_*\": \"N4*\"\n",
        "        os.remove(file)"
      ],
      "execution_count": 0,
      "outputs": []
    },
    {
      "cell_type": "code",
      "metadata": {
        "id": "tu8YpwLVOqAH",
        "colab_type": "code",
        "outputId": "df668dd1-2749-4ae4-e73b-487de6e431a4",
        "colab": {
          "base_uri": "https://localhost:8080/",
          "height": 434
        }
      },
      "source": [
        "# Next, Register the images to the avg 152 t2 image from MNI\n",
        "for subj in os.listdir(NIFTI_PATH):\n",
        "    subj_path = os.path.join(NIFTI_PATH, subj)\n",
        "    print (\"Working on \" + subj_path)\n",
        "    series = fnmatch.filter(os.listdir(subj_path), 'N4-*')\n",
        "    for ser in ['T2']:   \n",
        "        MNI_file = './icbm_avg_152_t2_tal_lin.nii'\n",
        "        T2_file =  os.path.join (subj_path, 'N4-T2*.nii.gz')\n",
        "        new_file = os.path.join (subj_path, 'Reg-N4-T2.nii.gz')\n",
        "        cmd = \"./flirt -in %s -ref %s  -out %s\" % (T2_file, MNI_file, new_file)\n",
        "        os.system(cmd)\n",
        "        print (cmd)\n",
        "\n",
        "\n"
      ],
      "execution_count": 0,
      "outputs": [
        {
          "output_type": "stream",
          "text": [
            "Working on ./LGG/Patient8\n",
            "./flirt -in ./LGG/Patient8/N4-T2*.nii.gz -ref ./icbm_avg_152_t2_tal_lin.nii  -out ./LGG/Patient8/Reg-N4-T2.nii.gz\n",
            "Working on ./LGG/Patient10\n",
            "./flirt -in ./LGG/Patient10/N4-T2*.nii.gz -ref ./icbm_avg_152_t2_tal_lin.nii  -out ./LGG/Patient10/Reg-N4-T2.nii.gz\n",
            "Working on ./LGG/Patient9\n",
            "./flirt -in ./LGG/Patient9/N4-T2*.nii.gz -ref ./icbm_avg_152_t2_tal_lin.nii  -out ./LGG/Patient9/Reg-N4-T2.nii.gz\n",
            "Working on ./LGG/Patient7\n",
            "./flirt -in ./LGG/Patient7/N4-T2*.nii.gz -ref ./icbm_avg_152_t2_tal_lin.nii  -out ./LGG/Patient7/Reg-N4-T2.nii.gz\n",
            "Working on ./LGG/class2\n",
            "./flirt -in ./LGG/class2/N4-T2*.nii.gz -ref ./icbm_avg_152_t2_tal_lin.nii  -out ./LGG/class2/Reg-N4-T2.nii.gz\n",
            "Working on ./LGG/Patient2\n",
            "./flirt -in ./LGG/Patient2/N4-T2*.nii.gz -ref ./icbm_avg_152_t2_tal_lin.nii  -out ./LGG/Patient2/Reg-N4-T2.nii.gz\n",
            "Working on ./LGG/Patient6\n",
            "./flirt -in ./LGG/Patient6/N4-T2*.nii.gz -ref ./icbm_avg_152_t2_tal_lin.nii  -out ./LGG/Patient6/Reg-N4-T2.nii.gz\n",
            "Working on ./LGG/class1\n",
            "./flirt -in ./LGG/class1/N4-T2*.nii.gz -ref ./icbm_avg_152_t2_tal_lin.nii  -out ./LGG/class1/Reg-N4-T2.nii.gz\n",
            "Working on ./LGG/Patient5\n",
            "./flirt -in ./LGG/Patient5/N4-T2*.nii.gz -ref ./icbm_avg_152_t2_tal_lin.nii  -out ./LGG/Patient5/Reg-N4-T2.nii.gz\n",
            "Working on ./LGG/Patient4\n",
            "./flirt -in ./LGG/Patient4/N4-T2*.nii.gz -ref ./icbm_avg_152_t2_tal_lin.nii  -out ./LGG/Patient4/Reg-N4-T2.nii.gz\n",
            "Working on ./LGG/Patient1\n",
            "./flirt -in ./LGG/Patient1/N4-T2*.nii.gz -ref ./icbm_avg_152_t2_tal_lin.nii  -out ./LGG/Patient1/Reg-N4-T2.nii.gz\n",
            "Working on ./LGG/Patient3\n",
            "./flirt -in ./LGG/Patient3/N4-T2*.nii.gz -ref ./icbm_avg_152_t2_tal_lin.nii  -out ./LGG/Patient3/Reg-N4-T2.nii.gz\n"
          ],
          "name": "stdout"
        }
      ]
    },
    {
      "cell_type": "code",
      "metadata": {
        "id": "NlgxKlUSYRO2",
        "colab_type": "code",
        "colab": {}
      },
      "source": [
        "!rm -rf LGG/N4-*  \n",
        "!rm -rf LGG/T2*"
      ],
      "execution_count": 0,
      "outputs": []
    },
    {
      "cell_type": "code",
      "metadata": {
        "id": "tsCgyZgHO7xL",
        "colab_type": "code",
        "outputId": "3c176949-5f5d-4def-8f48-c358e05c5c46",
        "colab": {
          "base_uri": "https://localhost:8080/",
          "height": 69
        }
      },
      "source": [
        "!pip install split-folders\n",
        "!pip install split-folders tqdm\n"
      ],
      "execution_count": 0,
      "outputs": [
        {
          "output_type": "stream",
          "text": [
            "Requirement already satisfied: split-folders in /usr/local/lib/python3.6/dist-packages (0.3.1)\n",
            "Requirement already satisfied: split-folders in /usr/local/lib/python3.6/dist-packages (0.3.1)\n",
            "Requirement already satisfied: tqdm in /usr/local/lib/python3.6/dist-packages (4.38.0)\n"
          ],
          "name": "stdout"
        }
      ]
    },
    {
      "cell_type": "code",
      "metadata": {
        "id": "4n9i7Q1VO7t-",
        "colab_type": "code",
        "outputId": "79def5a3-44bd-437c-eb18-42a96d71cfc3",
        "colab": {
          "base_uri": "https://localhost:8080/",
          "height": 34
        }
      },
      "source": [
        "import split_folders\n",
        "split_folders.ratio('./LGG', output='./output', seed=1337, ratio=(.8, .2))"
      ],
      "execution_count": 0,
      "outputs": [
        {
          "output_type": "stream",
          "text": [
            "Copying files: 31 files [00:03,  8.08 files/s]\n"
          ],
          "name": "stderr"
        }
      ]
    },
    {
      "cell_type": "code",
      "metadata": {
        "id": "ga5lwk_CO7q0",
        "colab_type": "code",
        "colab": {}
      },
      "source": [
        ""
      ],
      "execution_count": 0,
      "outputs": []
    },
    {
      "cell_type": "code",
      "metadata": {
        "id": "otr-9RqGO7cy",
        "colab_type": "code",
        "colab": {}
      },
      "source": [
        ""
      ],
      "execution_count": 0,
      "outputs": []
    }
  ]
}